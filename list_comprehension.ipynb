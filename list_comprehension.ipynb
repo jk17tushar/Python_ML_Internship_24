{
 "cells": [
  {
   "cell_type": "code",
   "execution_count": 2,
   "id": "a315ee1b-675b-4feb-b707-acd66100e008",
   "metadata": {},
   "outputs": [
    {
     "name": "stdout",
     "output_type": "stream",
     "text": [
      "[0]\n",
      "[0, 2, 4, 6, 8]\n",
      "[0, 2]\n",
      "[0, 2, 4, 6, 8]\n",
      "[0, 2, 4]\n",
      "[0, 2, 4, 6, 8]\n",
      "[0, 2, 4, 6]\n",
      "[0, 2, 4, 6, 8]\n",
      "[0, 2, 4, 6, 8]\n",
      "[0, 2, 4, 6, 8]\n"
     ]
    }
   ],
   "source": [
    "#List Comprehension\n",
    "\n",
    "l=[]\n",
    "for i in range(0,10,2):\n",
    "    l.append(i)\n",
    "    l2=[i for i in range(0,10,2)]  #OR\n",
    "    print(l)\n",
    "    print(l2)"
   ]
  },
  {
   "cell_type": "code",
   "execution_count": null,
   "id": "1a5b5993-e66e-4243-85da-1b80d2c8df2a",
   "metadata": {},
   "outputs": [],
   "source": []
  }
 ],
 "metadata": {
  "kernelspec": {
   "display_name": "Python 3 (ipykernel)",
   "language": "python",
   "name": "python3"
  },
  "language_info": {
   "codemirror_mode": {
    "name": "ipython",
    "version": 3
   },
   "file_extension": ".py",
   "mimetype": "text/x-python",
   "name": "python",
   "nbconvert_exporter": "python",
   "pygments_lexer": "ipython3",
   "version": "3.12.4"
  }
 },
 "nbformat": 4,
 "nbformat_minor": 5
}
