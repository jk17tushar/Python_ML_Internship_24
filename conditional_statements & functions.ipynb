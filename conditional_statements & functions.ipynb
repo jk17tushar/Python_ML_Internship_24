{
 "cells": [
  {
   "cell_type": "code",
   "execution_count": 2,
   "id": "161f3b00-7c49-47a2-b1f8-8dd8be8799c2",
   "metadata": {},
   "outputs": [
    {
     "name": "stdin",
     "output_type": "stream",
     "text": [
      "Enter your Expression:  12-6\n"
     ]
    },
    {
     "name": "stdout",
     "output_type": "stream",
     "text": [
      "6.0\n"
     ]
    }
   ],
   "source": [
    "#Calculator \n",
    "\n",
    "str=input(\"Enter your Expression: \")\n",
    "op = \"\"\n",
    "for i in str:\n",
    "    if i in \"+-*/\":\n",
    "        op=i\n",
    "        str=str.replace(op,\" \")\n",
    "        L = str.split(\" \")\n",
    "    \n",
    "if op == '+':\n",
    "    print(float(L[0])+float(L[1]))\n",
    "elif op == '-':\n",
    "    print(float(L[0])-float(L[1]))\n",
    "elif op == '*':\n",
    "    print(float(L[0])*float(L[1]))\n",
    "elif op == '/':\n",
    "    print(float(L[0])/float(L[1]))\n",
    "else :\n",
    "    print(\"Invalid\")"
   ]
  },
  {
   "cell_type": "code",
   "execution_count": 3,
   "id": "62acacc5-ec39-4742-9eb7-33334eb39946",
   "metadata": {},
   "outputs": [
    {
     "name": "stdout",
     "output_type": "stream",
     "text": [
      "{'A': 1}\n",
      "{'A': 1, 'B': 1}\n",
      "{'A': 2, 'B': 2, 'C': 1}\n",
      "{'A': 2, 'B': 3, 'C': 1, 'D': 1}\n"
     ]
    }
   ],
   "source": [
    "#given a dictionary with some keywords with some values so check the occurence of values.\n",
    "\n",
    "dIP = {\"S1\":\"A\",\"S2\":\"B\", \"S3\":\"A\", \"S4\":\"B\", \"S5\":\"C\", \"S6\":\"B\", \"S7\":\"D\"}\n",
    "#print(dIP)\n",
    "dOP = {}\n",
    "\n",
    "for i in dIP.values():\n",
    "    if i in dOP.keys():\n",
    "        dOP[i]=dOP[i]+1\n",
    "    else:\n",
    "        dOP[i]=1\n",
    "        print(dOP)"
   ]
  },
  {
   "cell_type": "code",
   "execution_count": 5,
   "id": "c24b068f-355e-4774-8d40-3fb79b53495a",
   "metadata": {},
   "outputs": [],
   "source": [
    "#function-parameterized fxn :to add 2 numbers. \n",
    "\n",
    "def addnum(a,b):\n",
    "    c=a+b\n",
    "    return c\n",
    "if __name__==\"main__\":\n",
    "    result = addnum(2,5)\n",
    "    print(result)"
   ]
  },
  {
   "cell_type": "code",
   "execution_count": 23,
   "id": "c71b4f4c-2130-4b12-9369-c27b02960c3e",
   "metadata": {},
   "outputs": [],
   "source": [
    "#function-non parameterized fxn :to add 2 numbers. \n",
    "\n",
    "def addnum():\n",
    "    a=int(input())\n",
    "    b=int(input())\n",
    "    c=a+b\n",
    "    print(c)\n",
    "if __name__==\"main__\":\n",
    "    addnum()"
   ]
  },
  {
   "cell_type": "code",
   "execution_count": 1,
   "id": "c25b03ba-34ef-4600-b173-e1d665a26d1c",
   "metadata": {},
   "outputs": [],
   "source": [
    "#To check given number is prime or not.\n",
    "\n",
    "def checkprime(n):\n",
    "    flag = 0\n",
    "    if n<1:\n",
    "        flag =2\n",
    "        return flag\n",
    "    if n in [1,2,3]:\n",
    "        return flag\n",
    "    for i in range(2,(n//2+1)):   #// - floor decimal\n",
    "        if n%i==0:\n",
    "         flag=1\n",
    "         return flag\n",
    "    return flag      \n",
    "\n",
    "if __name__==\"main__\":\n",
    "    n=int(input(\"Enter the Number: \"))\n",
    "    result = checkprime(n)\n",
    "    if result == 0:\n",
    "        print(\"The number is Prime or Special Case\")\n",
    "    elif result == 1:\n",
    "        print(\"The number is Non Prime\")\n",
    "    else:\n",
    "        print(\"Invalid Input\")"
   ]
  },
  {
   "cell_type": "code",
   "execution_count": 25,
   "id": "6632fea1-e4f6-4967-b316-91fb87cd1b68",
   "metadata": {},
   "outputs": [],
   "source": [
    "#CLASS\n",
    "\n",
    "class ABC:\n",
    "    def __init__(self): #Private __(two underscore)\n",
    "        self.a=0        #Public\n",
    "        self.L=[]      #Public\n",
    "        self.C=\"\"      #Public  \n",
    "        def abc(self):\n",
    "            print(self.a)\n",
    "            print(self.L)\n",
    "            print(self.C)\n",
    "if __name__==\"main__\":   #Protected (one underscore)\n",
    "    obj=ABC()\n",
    "    obj.abc()\n",
    "    print(type(obj))\n",
    "\n",
    "    "
   ]
  },
  {
   "cell_type": "code",
   "execution_count": null,
   "id": "edb6ba7d-c51f-48af-8101-3242a1f254d0",
   "metadata": {},
   "outputs": [],
   "source": []
  }
 ],
 "metadata": {
  "kernelspec": {
   "display_name": "Python 3 (ipykernel)",
   "language": "python",
   "name": "python3"
  },
  "language_info": {
   "codemirror_mode": {
    "name": "ipython",
    "version": 3
   },
   "file_extension": ".py",
   "mimetype": "text/x-python",
   "name": "python",
   "nbconvert_exporter": "python",
   "pygments_lexer": "ipython3",
   "version": "3.12.4"
  }
 },
 "nbformat": 4,
 "nbformat_minor": 5
}
