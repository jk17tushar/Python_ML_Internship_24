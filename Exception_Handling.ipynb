{
 "cells": [
  {
   "cell_type": "code",
   "execution_count": 13,
   "id": "647fa11e-46bc-40dd-a866-c7c9c946d6cd",
   "metadata": {},
   "outputs": [
    {
     "name": "stdout",
     "output_type": "stream",
     "text": [
      "Hello world\n",
      "4\n",
      "end of code\n"
     ]
    }
   ],
   "source": [
    "L= [1,2,3,4,5]\n",
    "\n",
    "L[3]\n",
    "\n",
    "\n",
    "print(\"Hello world\")\n",
    "L\n",
    "try:\n",
    "    print(L[3])\n",
    "except:\n",
    "    print(L[7])\n",
    "print(\"end of code\")"
   ]
  },
  {
   "cell_type": "code",
   "execution_count": 12,
   "id": "a899f114-aa64-4bc5-9739-f21c4095d713",
   "metadata": {},
   "outputs": [
    {
     "name": "stdout",
     "output_type": "stream",
     "text": [
      "Hello world\n",
      "4\n",
      "5\n",
      "end of code\n"
     ]
    }
   ],
   "source": [
    "print(\"Hello world\")\n",
    "\n",
    "L\n",
    "\n",
    "print(L[3])\n",
    "try:\n",
    "    print(L[4])\n",
    "except:\n",
    "    print(\"invalid index\")\n",
    "\n",
    "print(\"end of code\")"
   ]
  },
  {
   "cell_type": "code",
   "execution_count": 7,
   "id": "91512fa9-f30b-4796-9449-9635bfbfb599",
   "metadata": {},
   "outputs": [
    {
     "name": "stdout",
     "output_type": "stream",
     "text": [
      "B can't be zero\n",
      "Code executed successfully\n"
     ]
    }
   ],
   "source": [
    "a=10\n",
    "b=0\n",
    "\n",
    "try:\n",
    "    print(a/b)\n",
    "\n",
    "except:\n",
    "    print(\"B can't be zero\")\n",
    "\n",
    "finally:\n",
    "    print(\"Code executed successfully\")"
   ]
  },
  {
   "cell_type": "code",
   "execution_count": 8,
   "id": "fb0b55ec-488a-489c-8858-142b9eb6aa3b",
   "metadata": {},
   "outputs": [
    {
     "name": "stdout",
     "output_type": "stream",
     "text": [
      "B can't be Zero\n",
      "Code executed Sucessfully\n"
     ]
    }
   ],
   "source": [
    "a=10\n",
    "b=0\n",
    "\n",
    "try : \n",
    "    print(a/b)\n",
    "    L[8]\n",
    "except ZeroDivisionError: \n",
    "    print(\"B can't be Zero\")\n",
    "except NameError: \n",
    "    print(\"Incorrect Identifier\")\n",
    "except IndexError: \n",
    "    print(\"Trying to fetch the non existing data\")\n",
    "finally:\n",
    "    print(\"Code executed Sucessfully\")"
   ]
  },
  {
   "cell_type": "code",
   "execution_count": 9,
   "id": "6d98bb3a-5c18-407c-9126-f644284c5aaa",
   "metadata": {},
   "outputs": [
    {
     "name": "stdout",
     "output_type": "stream",
     "text": [
      "2.0\n",
      "list index out of range\n",
      "Code executed Sucessfully\n"
     ]
    }
   ],
   "source": [
    "a=10\n",
    "b=5\n",
    "\n",
    "try : \n",
    "    print(a/b)\n",
    "    L[8]\n",
    "except Exception as e: \n",
    "    print(e)\n",
    "finally:\n",
    "    print(\"Code executed Sucessfully\")"
   ]
  },
  {
   "cell_type": "code",
   "execution_count": null,
   "id": "842c4f4f-8bb7-4bbf-ae17-296cbece7e0b",
   "metadata": {},
   "outputs": [],
   "source": []
  }
 ],
 "metadata": {
  "kernelspec": {
   "display_name": "Python 3 (ipykernel)",
   "language": "python",
   "name": "python3"
  },
  "language_info": {
   "codemirror_mode": {
    "name": "ipython",
    "version": 3
   },
   "file_extension": ".py",
   "mimetype": "text/x-python",
   "name": "python",
   "nbconvert_exporter": "python",
   "pygments_lexer": "ipython3",
   "version": "3.12.4"
  }
 },
 "nbformat": 4,
 "nbformat_minor": 5
}
