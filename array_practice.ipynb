{
 "cells": [
  {
   "cell_type": "code",
   "execution_count": 26,
   "id": "74fc681c-eca1-4e36-8fcc-71a29a114a1c",
   "metadata": {},
   "outputs": [
    {
     "data": {
      "text/plain": [
       "array([[85, 90, 78],\n",
       "       [92, 88, 95],\n",
       "       [76, 95, 85],\n",
       "       [90, 85, 92],\n",
       "       [88, 76, 89]])"
      ]
     },
     "execution_count": 26,
     "metadata": {},
     "output_type": "execute_result"
    }
   ],
   "source": [
    "import numpy as np\n",
    "\n",
    "#Declaration of array\n",
    "\n",
    "\n",
    "scores = np.array([[85, 90, 78],\n",
    "                   [92, 88, 95],\n",
    "                   [76, 95, 85],\n",
    "                   [90, 85, 92],\n",
    "                   [88, 76, 89]])\n",
    "scores"
   ]
  },
  {
   "cell_type": "code",
   "execution_count": 27,
   "id": "48c3a084-91e1-4fbd-8f13-21eec3461276",
   "metadata": {},
   "outputs": [
    {
     "data": {
      "text/plain": [
       "array([86.2, 86.8, 87.8])"
      ]
     },
     "execution_count": 27,
     "metadata": {},
     "output_type": "execute_result"
    }
   ],
   "source": [
    "#Calculate the mean score of each subject (across all subjects).\n",
    "\n",
    "np.mean(scores,axis=0)"
   ]
  },
  {
   "cell_type": "code",
   "execution_count": 28,
   "id": "cd4705eb-0ffc-4b12-8ff8-d6c3d02d6af7",
   "metadata": {},
   "outputs": [
    {
     "data": {
      "text/plain": [
       "array([85., 92., 85., 90., 88.])"
      ]
     },
     "execution_count": 28,
     "metadata": {},
     "output_type": "execute_result"
    }
   ],
   "source": [
    "#Find the median score of each student (across all subjects).\n",
    "\n",
    "np.median(scores,axis=1)"
   ]
  },
  {
   "cell_type": "code",
   "execution_count": 29,
   "id": "26097971-b5e2-4fa5-a4ac-0a9df75038ec",
   "metadata": {},
   "outputs": [
    {
     "data": {
      "text/plain": [
       "array([[85, 90, 78, 92, 88],\n",
       "       [95, 76, 95, 85, 90],\n",
       "       [85, 92, 88, 76, 89]])"
      ]
     },
     "execution_count": 29,
     "metadata": {},
     "output_type": "execute_result"
    }
   ],
   "source": [
    "#Reshape the array to have shape(3,5), where each row represents a subject and each column represents a student.\n",
    "\n",
    "scores.reshape(3,5)"
   ]
  },
  {
   "cell_type": "code",
   "execution_count": 30,
   "id": "50ddbe00-ef07-420d-8e5f-03062fe72711",
   "metadata": {},
   "outputs": [
    {
     "data": {
      "text/plain": [
       "array([[76, 76, 78],\n",
       "       [85, 85, 85],\n",
       "       [88, 88, 89],\n",
       "       [90, 90, 92],\n",
       "       [92, 95, 95]])"
      ]
     },
     "execution_count": 30,
     "metadata": {},
     "output_type": "execute_result"
    }
   ],
   "source": [
    "#Sort the scores of each subject in ascending order.\n",
    "\n",
    "np.sort(scores,axis=0)"
   ]
  },
  {
   "cell_type": "code",
   "execution_count": 31,
   "id": "cef2041d-ba1a-4458-8393-616e32bb5364",
   "metadata": {},
   "outputs": [
    {
     "data": {
      "text/plain": [
       "array([76, 76, 78])"
      ]
     },
     "execution_count": 31,
     "metadata": {},
     "output_type": "execute_result"
    }
   ],
   "source": [
    "#Find the minimum scores in each subject.\n",
    "\n",
    "np.min(scores,axis=0)"
   ]
  },
  {
   "cell_type": "code",
   "execution_count": 32,
   "id": "f7fb9d61-9d83-4558-9dd0-9fe6dbf894a2",
   "metadata": {},
   "outputs": [
    {
     "data": {
      "text/plain": [
       "array([92, 95, 95])"
      ]
     },
     "execution_count": 32,
     "metadata": {},
     "output_type": "execute_result"
    }
   ],
   "source": [
    "#Find the maximum scores in each subject.\n",
    "\n",
    "np.max(scores,axis=0)"
   ]
  },
  {
   "cell_type": "code",
   "execution_count": 33,
   "id": "5a36df3a-1ee2-4664-83e2-20d8e2a4f463",
   "metadata": {},
   "outputs": [
    {
     "data": {
      "text/plain": [
       "array([253, 275, 256, 267, 253])"
      ]
     },
     "execution_count": 33,
     "metadata": {},
     "output_type": "execute_result"
    }
   ],
   "source": [
    "total = scores.sum(axis=1)\n",
    "total"
   ]
  },
  {
   "cell_type": "code",
   "execution_count": 34,
   "id": "21d8a3be-da6b-4087-bb98-1a36817d39aa",
   "metadata": {},
   "outputs": [
    {
     "data": {
      "text/plain": [
       "np.int64(275)"
      ]
     },
     "execution_count": 34,
     "metadata": {},
     "output_type": "execute_result"
    }
   ],
   "source": [
    "np.max(total,axis=0)"
   ]
  },
  {
   "cell_type": "code",
   "execution_count": null,
   "id": "3cf5daaa-c227-45b9-8df4-6c520dc6f13f",
   "metadata": {},
   "outputs": [],
   "source": []
  }
 ],
 "metadata": {
  "kernelspec": {
   "display_name": "Python 3 (ipykernel)",
   "language": "python",
   "name": "python3"
  },
  "language_info": {
   "codemirror_mode": {
    "name": "ipython",
    "version": 3
   },
   "file_extension": ".py",
   "mimetype": "text/x-python",
   "name": "python",
   "nbconvert_exporter": "python",
   "pygments_lexer": "ipython3",
   "version": "3.12.4"
  }
 },
 "nbformat": 4,
 "nbformat_minor": 5
}
