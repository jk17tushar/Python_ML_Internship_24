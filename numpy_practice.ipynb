{
 "cells": [
  {
   "cell_type": "code",
   "execution_count": 1,
   "id": "12a37705-4130-41d5-a645-98026c7e99b0",
   "metadata": {},
   "outputs": [],
   "source": [
    "import numpy as np"
   ]
  },
  {
   "cell_type": "code",
   "execution_count": 2,
   "id": "4e011ccb-0e5b-4a53-a5dd-152f63615be2",
   "metadata": {},
   "outputs": [
    {
     "data": {
      "text/plain": [
       "array([1, 2, 3, 4, 5])"
      ]
     },
     "execution_count": 2,
     "metadata": {},
     "output_type": "execute_result"
    }
   ],
   "source": [
    "arr = np.array([1,2,3,4,5])\n",
    "arr"
   ]
  },
  {
   "cell_type": "code",
   "execution_count": 3,
   "id": "95771e12-788a-490b-a23c-f3fb49d0098b",
   "metadata": {},
   "outputs": [
    {
     "name": "stdout",
     "output_type": "stream",
     "text": [
      "int64\n"
     ]
    }
   ],
   "source": [
    "print(arr.dtype)"
   ]
  },
  {
   "cell_type": "code",
   "execution_count": 4,
   "id": "0c416c93-c19c-4f45-8145-7c5457b7c291",
   "metadata": {},
   "outputs": [
    {
     "data": {
      "text/plain": [
       "array([1, 2, 3, 4, 5], dtype=int16)"
      ]
     },
     "execution_count": 4,
     "metadata": {},
     "output_type": "execute_result"
    }
   ],
   "source": [
    "arr2 = np.array([1,2,3,4,5],dtype=np.int16)\n",
    "arr2"
   ]
  },
  {
   "cell_type": "code",
   "execution_count": 5,
   "id": "e9333d7d-d26c-4f70-8348-bf36ff6d5195",
   "metadata": {},
   "outputs": [
    {
     "data": {
      "text/plain": [
       "array([0., 0., 0., 0., 0.])"
      ]
     },
     "execution_count": 5,
     "metadata": {},
     "output_type": "execute_result"
    }
   ],
   "source": [
    "Z=np.zeros(5)\n",
    "Z"
   ]
  },
  {
   "cell_type": "code",
   "execution_count": 6,
   "id": "bab78e01-05c4-4e5b-9999-070a21eabe0e",
   "metadata": {},
   "outputs": [
    {
     "data": {
      "text/plain": [
       "array([0, 1, 2, 3, 4, 5, 6, 7, 8, 9])"
      ]
     },
     "execution_count": 6,
     "metadata": {},
     "output_type": "execute_result"
    }
   ],
   "source": [
    "ar=np.arange(0,10,1)\n",
    "ar"
   ]
  },
  {
   "cell_type": "code",
   "execution_count": 7,
   "id": "ab2b6ce1-8ad9-40b5-b6c3-5e12356e321c",
   "metadata": {},
   "outputs": [
    {
     "data": {
      "text/plain": [
       "array([0.68062202, 0.68276006, 0.59699768, 0.63095005])"
      ]
     },
     "execution_count": 7,
     "metadata": {},
     "output_type": "execute_result"
    }
   ],
   "source": [
    "ran=np.random.rand(4)\n",
    "ran"
   ]
  },
  {
   "cell_type": "code",
   "execution_count": 8,
   "id": "d895dd54-5ce4-40a7-bd11-0d8d8143fd15",
   "metadata": {},
   "outputs": [
    {
     "data": {
      "text/plain": [
       "array([  0.        ,  11.11111111,  22.22222222,  33.33333333,\n",
       "        44.44444444,  55.55555556,  66.66666667,  77.77777778,\n",
       "        88.88888889, 100.        ])"
      ]
     },
     "execution_count": 8,
     "metadata": {},
     "output_type": "execute_result"
    }
   ],
   "source": [
    "ln=np.linspace(0,100,10)\n",
    "ln"
   ]
  },
  {
   "cell_type": "markdown",
   "id": "877d39f2-77b5-4145-bdf6-71887070cf44",
   "metadata": {},
   "source": [
    "**2D Arrays**"
   ]
  },
  {
   "cell_type": "code",
   "execution_count": 9,
   "id": "5d761418-39b7-491e-bffb-d11d2622d95a",
   "metadata": {},
   "outputs": [
    {
     "data": {
      "text/plain": [
       "array([[1, 2, 3],\n",
       "       [4, 5, 6],\n",
       "       [7, 8, 9]])"
      ]
     },
     "execution_count": 9,
     "metadata": {},
     "output_type": "execute_result"
    }
   ],
   "source": [
    "ar2=np.array([[1,2,3],[4,5,6],[7,8,9]])\n",
    "ar2"
   ]
  },
  {
   "cell_type": "code",
   "execution_count": 10,
   "id": "70f92c83-3abd-456c-8c58-5de71c14a3ea",
   "metadata": {},
   "outputs": [
    {
     "data": {
      "text/plain": [
       "array([[0., 0., 0., 0., 0.],\n",
       "       [0., 0., 0., 0., 0.],\n",
       "       [0., 0., 0., 0., 0.],\n",
       "       [0., 0., 0., 0., 0.],\n",
       "       [0., 0., 0., 0., 0.]])"
      ]
     },
     "execution_count": 10,
     "metadata": {},
     "output_type": "execute_result"
    }
   ],
   "source": [
    "z1=np.zeros([5,5])\n",
    "z1"
   ]
  },
  {
   "cell_type": "code",
   "execution_count": 11,
   "id": "8eb72c0a-30f9-40af-8a73-4b7e7137ce84",
   "metadata": {},
   "outputs": [
    {
     "data": {
      "text/plain": [
       "array([[1., 1., 1., 1., 1.],\n",
       "       [1., 1., 1., 1., 1.],\n",
       "       [1., 1., 1., 1., 1.],\n",
       "       [1., 1., 1., 1., 1.],\n",
       "       [1., 1., 1., 1., 1.]])"
      ]
     },
     "execution_count": 11,
     "metadata": {},
     "output_type": "execute_result"
    }
   ],
   "source": [
    "o1=np.ones([5,5])\n",
    "o1"
   ]
  },
  {
   "cell_type": "code",
   "execution_count": 12,
   "id": "a7d15ca8-b488-4612-97a9-21e798086d05",
   "metadata": {},
   "outputs": [
    {
     "data": {
      "text/plain": [
       "array([[1., 0., 0., 0., 0.],\n",
       "       [0., 1., 0., 0., 0.],\n",
       "       [0., 0., 1., 0., 0.],\n",
       "       [0., 0., 0., 1., 0.],\n",
       "       [0., 0., 0., 0., 1.]])"
      ]
     },
     "execution_count": 12,
     "metadata": {},
     "output_type": "execute_result"
    }
   ],
   "source": [
    "I=np.eye(5)\n",
    "I"
   ]
  },
  {
   "cell_type": "code",
   "execution_count": 13,
   "id": "40772e8d-a285-460f-a4b7-39a13601653d",
   "metadata": {},
   "outputs": [
    {
     "data": {
      "text/plain": [
       "array([[0.60273326, 0.34302955, 0.12722741, 0.02760122, 0.41257096],\n",
       "       [0.40475746, 0.81405167, 0.94236481, 0.21992896, 0.16258156],\n",
       "       [0.61245278, 0.63504565, 0.6995252 , 0.2426425 , 0.6198635 ],\n",
       "       [0.69955275, 0.5011721 , 0.07602536, 0.06105526, 0.82051285]])"
      ]
     },
     "execution_count": 13,
     "metadata": {},
     "output_type": "execute_result"
    }
   ],
   "source": [
    "r1=np.random.rand(4,5)\n",
    "r1"
   ]
  },
  {
   "cell_type": "code",
   "execution_count": 14,
   "id": "083822d2-0a49-42e7-ba35-be1f52677da2",
   "metadata": {},
   "outputs": [
    {
     "data": {
      "text/plain": [
       "array([[1, 2, 3],\n",
       "       [4, 5, 6],\n",
       "       [7, 8, 9]])"
      ]
     },
     "execution_count": 14,
     "metadata": {},
     "output_type": "execute_result"
    }
   ],
   "source": [
    "ar\n",
    "ar2"
   ]
  },
  {
   "cell_type": "code",
   "execution_count": 15,
   "id": "753bbca7-fc36-425d-bacf-85fab2708572",
   "metadata": {},
   "outputs": [
    {
     "data": {
      "text/plain": [
       "array([0, 1, 2, 3, 4, 5, 6, 7, 8, 9])"
      ]
     },
     "execution_count": 15,
     "metadata": {},
     "output_type": "execute_result"
    }
   ],
   "source": [
    "ar"
   ]
  },
  {
   "cell_type": "code",
   "execution_count": 16,
   "id": "54ee5d5a-abe7-4b33-b8f5-d48a310f16c1",
   "metadata": {},
   "outputs": [
    {
     "data": {
      "text/plain": [
       "array([[1, 2, 3],\n",
       "       [4, 5, 6],\n",
       "       [7, 8, 9]])"
      ]
     },
     "execution_count": 16,
     "metadata": {},
     "output_type": "execute_result"
    }
   ],
   "source": [
    "ar2"
   ]
  },
  {
   "cell_type": "code",
   "execution_count": 17,
   "id": "3d2a40dd-a57d-4386-9ad2-60aef280d79f",
   "metadata": {},
   "outputs": [
    {
     "name": "stdout",
     "output_type": "stream",
     "text": [
      "10\n"
     ]
    }
   ],
   "source": [
    "print(ar.size)"
   ]
  },
  {
   "cell_type": "code",
   "execution_count": 18,
   "id": "f2ad1ec9-a5be-4471-bf7e-95a3db03f138",
   "metadata": {},
   "outputs": [
    {
     "name": "stdout",
     "output_type": "stream",
     "text": [
      "9\n"
     ]
    }
   ],
   "source": [
    "print(ar2.size)"
   ]
  },
  {
   "cell_type": "code",
   "execution_count": 19,
   "id": "60243b3d-dca9-4e9c-b75f-7d73124985b5",
   "metadata": {},
   "outputs": [
    {
     "name": "stdout",
     "output_type": "stream",
     "text": [
      "(10,)\n"
     ]
    }
   ],
   "source": [
    "print(ar.shape)"
   ]
  },
  {
   "cell_type": "markdown",
   "id": "67ac2bae-768b-4750-8abc-138f240f2621",
   "metadata": {},
   "source": [
    "**Operations in Array**\n",
    "copy reshape sort"
   ]
  },
  {
   "cell_type": "code",
   "execution_count": 20,
   "id": "32e83fd0-3cef-4381-b99c-722c59201692",
   "metadata": {},
   "outputs": [
    {
     "data": {
      "text/plain": [
       "array([[1, 2, 3],\n",
       "       [4, 5, 6],\n",
       "       [7, 8, 9]])"
      ]
     },
     "execution_count": 20,
     "metadata": {},
     "output_type": "execute_result"
    }
   ],
   "source": [
    "ar3=np.copy(ar2)\n",
    "ar3"
   ]
  },
  {
   "cell_type": "code",
   "execution_count": 21,
   "id": "497895b6-b398-4dde-9d6d-98aff430a9c8",
   "metadata": {},
   "outputs": [],
   "source": [
    "ar3[2,2]=10"
   ]
  },
  {
   "cell_type": "code",
   "execution_count": 22,
   "id": "3ecb5b0c-4659-46e5-9f41-5d6553f5759a",
   "metadata": {},
   "outputs": [
    {
     "data": {
      "text/plain": [
       "array([[ 1,  2,  3],\n",
       "       [ 4,  5,  6],\n",
       "       [ 7,  8, 10]])"
      ]
     },
     "execution_count": 22,
     "metadata": {},
     "output_type": "execute_result"
    }
   ],
   "source": [
    "ar3"
   ]
  },
  {
   "cell_type": "code",
   "execution_count": 23,
   "id": "1bc42f77-027b-4eca-8a40-49da190d053e",
   "metadata": {},
   "outputs": [
    {
     "data": {
      "text/plain": [
       "array([[ 1, 15,  3],\n",
       "       [ 4,  5, 12],\n",
       "       [ 7,  8, 10]])"
      ]
     },
     "execution_count": 23,
     "metadata": {},
     "output_type": "execute_result"
    }
   ],
   "source": [
    "ar3[1,2]=12\n",
    "ar3[0,1]=15\n",
    "ar3"
   ]
  },
  {
   "cell_type": "code",
   "execution_count": 24,
   "id": "6e346c31-eaac-4067-8bd6-0fcafd3e05d6",
   "metadata": {},
   "outputs": [
    {
     "data": {
      "text/plain": [
       "array([[ 1,  3, 15],\n",
       "       [ 4,  5, 12],\n",
       "       [ 7,  8, 10]])"
      ]
     },
     "execution_count": 24,
     "metadata": {},
     "output_type": "execute_result"
    }
   ],
   "source": [
    "ar3=np.sort(ar3)\n",
    "ar3"
   ]
  },
  {
   "cell_type": "code",
   "execution_count": 25,
   "id": "d4a2c348-97a1-452d-bc8e-cee91f6b16de",
   "metadata": {},
   "outputs": [
    {
     "data": {
      "text/plain": [
       "array([[ 1,  3, 10],\n",
       "       [ 4,  5, 12],\n",
       "       [ 7,  8, 15]])"
      ]
     },
     "execution_count": 25,
     "metadata": {},
     "output_type": "execute_result"
    }
   ],
   "source": [
    "ar3=np.sort(ar3,axis=0)\n",
    "ar3"
   ]
  },
  {
   "cell_type": "code",
   "execution_count": 26,
   "id": "139b2aba-5677-42d9-aa96-2976609397b3",
   "metadata": {},
   "outputs": [
    {
     "data": {
      "text/plain": [
       "np.int64(65)"
      ]
     },
     "execution_count": 26,
     "metadata": {},
     "output_type": "execute_result"
    }
   ],
   "source": [
    "ar3.sum()"
   ]
  },
  {
   "cell_type": "code",
   "execution_count": 27,
   "id": "0a9aeb50-7752-4926-8e3e-1ea8f5fae1fa",
   "metadata": {},
   "outputs": [
    {
     "data": {
      "text/plain": [
       "array([12, 16, 37])"
      ]
     },
     "execution_count": 27,
     "metadata": {},
     "output_type": "execute_result"
    }
   ],
   "source": [
    "ar3.sum(axis=0)"
   ]
  },
  {
   "cell_type": "code",
   "execution_count": 28,
   "id": "f004166d-f9e7-4428-92d7-faf784eac629",
   "metadata": {},
   "outputs": [
    {
     "data": {
      "text/plain": [
       "array([14, 21, 30])"
      ]
     },
     "execution_count": 28,
     "metadata": {},
     "output_type": "execute_result"
    }
   ],
   "source": [
    "ar3.sum(axis=1)"
   ]
  },
  {
   "cell_type": "code",
   "execution_count": 29,
   "id": "f3832e71-04ed-48cc-bcb2-94c6e9fc46be",
   "metadata": {},
   "outputs": [
    {
     "data": {
      "text/plain": [
       "array([0.23207219, 0.85700405, 0.11111337, 0.84108373, 0.49372641,\n",
       "       0.19345132, 0.59141642, 0.65115508, 0.57161833, 0.83998976,\n",
       "       0.69960206, 0.26121457, 0.15211088, 0.58367308, 0.62139498,\n",
       "       0.79155572, 0.48156708, 0.26818   , 0.49435385, 0.40224817,\n",
       "       0.12969303, 0.45205621, 0.84712457, 0.82362432, 0.90775154,\n",
       "       0.02071414, 0.68357172, 0.4695172 , 0.41828243, 0.93387523,\n",
       "       0.86207661, 0.67670029, 0.23296403, 0.64579865, 0.15217502,\n",
       "       0.55001965, 0.78722238, 0.88030525, 0.20288938, 0.65407432,\n",
       "       0.38362101, 0.89447625, 0.95707372, 0.86599072, 0.64669255,\n",
       "       0.86349616, 0.65427636, 0.00700311, 0.65003354, 0.10871695,\n",
       "       0.17893171, 0.57223386, 0.82585901, 0.78312556, 0.11209514,\n",
       "       0.57415173, 0.46965404, 0.70952539, 0.07145321, 0.15862757,\n",
       "       0.75195861, 0.25580273, 0.03894218, 0.05702385, 0.01069632,\n",
       "       0.97103738, 0.24473901, 0.07431258, 0.27505493, 0.94099693,\n",
       "       0.07495758, 0.32504359, 0.54326826, 0.74155169, 0.93847064,\n",
       "       0.84876962, 0.34965009, 0.9998351 , 0.3069233 , 0.91790525,\n",
       "       0.62690144, 0.48236975, 0.89799806, 0.12254917, 0.8031123 ,\n",
       "       0.08943324, 0.33366114, 0.06996345, 0.62683227, 0.39052642,\n",
       "       0.55667145, 0.86545069, 0.50708376, 0.35408122, 0.7723315 ,\n",
       "       0.98223873, 0.49142357, 0.52839762, 0.87975493])"
      ]
     },
     "execution_count": 29,
     "metadata": {},
     "output_type": "execute_result"
    }
   ],
   "source": [
    "ar4=np.random.rand(99)\n",
    "ar4"
   ]
  },
  {
   "cell_type": "code",
   "execution_count": 30,
   "id": "ca561f4f-7a34-425d-b2ee-9a45b33fd48b",
   "metadata": {},
   "outputs": [
    {
     "data": {
      "text/plain": [
       "99"
      ]
     },
     "execution_count": 30,
     "metadata": {},
     "output_type": "execute_result"
    }
   ],
   "source": [
    "ar4.size"
   ]
  },
  {
   "cell_type": "code",
   "execution_count": 31,
   "id": "e25ddbe7-a44d-4713-ade2-f4a75dbbeb45",
   "metadata": {},
   "outputs": [],
   "source": [
    "ar4=ar4.reshape(11,9)"
   ]
  },
  {
   "cell_type": "code",
   "execution_count": 32,
   "id": "ae5d2ddd-9361-4837-b4d0-e7e0848effc5",
   "metadata": {},
   "outputs": [
    {
     "data": {
      "text/plain": [
       "99"
      ]
     },
     "execution_count": 32,
     "metadata": {},
     "output_type": "execute_result"
    }
   ],
   "source": [
    "ar4.size"
   ]
  },
  {
   "cell_type": "code",
   "execution_count": 33,
   "id": "cd9b102f-5b22-43be-9b64-339d8407e187",
   "metadata": {},
   "outputs": [
    {
     "data": {
      "text/plain": [
       "(11, 9)"
      ]
     },
     "execution_count": 33,
     "metadata": {},
     "output_type": "execute_result"
    }
   ],
   "source": [
    "ar4.shape"
   ]
  },
  {
   "cell_type": "code",
   "execution_count": 34,
   "id": "c1350836-d8eb-45b6-8870-cb495640d16e",
   "metadata": {},
   "outputs": [
    {
     "data": {
      "text/plain": [
       "array([[0.23207219, 0.85700405, 0.11111337, 0.84108373, 0.49372641,\n",
       "        0.19345132, 0.59141642, 0.65115508, 0.57161833],\n",
       "       [0.83998976, 0.69960206, 0.26121457, 0.15211088, 0.58367308,\n",
       "        0.62139498, 0.79155572, 0.48156708, 0.26818   ],\n",
       "       [0.49435385, 0.40224817, 0.12969303, 0.45205621, 0.84712457,\n",
       "        0.82362432, 0.90775154, 0.02071414, 0.68357172],\n",
       "       [0.4695172 , 0.41828243, 0.93387523, 0.86207661, 0.67670029,\n",
       "        0.23296403, 0.64579865, 0.15217502, 0.55001965],\n",
       "       [0.78722238, 0.88030525, 0.20288938, 0.65407432, 0.38362101,\n",
       "        0.89447625, 0.95707372, 0.86599072, 0.64669255],\n",
       "       [0.86349616, 0.65427636, 0.00700311, 0.65003354, 0.10871695,\n",
       "        0.17893171, 0.57223386, 0.82585901, 0.78312556],\n",
       "       [0.11209514, 0.57415173, 0.46965404, 0.70952539, 0.07145321,\n",
       "        0.15862757, 0.75195861, 0.25580273, 0.03894218],\n",
       "       [0.05702385, 0.01069632, 0.97103738, 0.24473901, 0.07431258,\n",
       "        0.27505493, 0.94099693, 0.07495758, 0.32504359],\n",
       "       [0.54326826, 0.74155169, 0.93847064, 0.84876962, 0.34965009,\n",
       "        0.9998351 , 0.3069233 , 0.91790525, 0.62690144],\n",
       "       [0.48236975, 0.89799806, 0.12254917, 0.8031123 , 0.08943324,\n",
       "        0.33366114, 0.06996345, 0.62683227, 0.39052642],\n",
       "       [0.55667145, 0.86545069, 0.50708376, 0.35408122, 0.7723315 ,\n",
       "        0.98223873, 0.49142357, 0.52839762, 0.87975493]])"
      ]
     },
     "execution_count": 34,
     "metadata": {},
     "output_type": "execute_result"
    }
   ],
   "source": [
    "ar4"
   ]
  },
  {
   "cell_type": "code",
   "execution_count": 35,
   "id": "20d0aac2-6f18-45d3-a7e8-ced765ff1261",
   "metadata": {},
   "outputs": [
    {
     "data": {
      "text/plain": [
       "array([[ 1,  3, 10],\n",
       "       [ 4,  5, 12],\n",
       "       [ 7,  8, 15]])"
      ]
     },
     "execution_count": 35,
     "metadata": {},
     "output_type": "execute_result"
    }
   ],
   "source": [
    "ar3"
   ]
  },
  {
   "cell_type": "code",
   "execution_count": 36,
   "id": "1c4df8d7-6343-4da2-b07d-c44cd953af3f",
   "metadata": {},
   "outputs": [
    {
     "data": {
      "text/plain": [
       "array([[ 1,  4,  7],\n",
       "       [ 3,  5,  8],\n",
       "       [10, 12, 15]])"
      ]
     },
     "execution_count": 36,
     "metadata": {},
     "output_type": "execute_result"
    }
   ],
   "source": [
    "ar3=ar3.T\n",
    "ar3"
   ]
  },
  {
   "cell_type": "code",
   "execution_count": 37,
   "id": "3fc0aaf0-0b0a-4af6-b39b-87cc449c24b2",
   "metadata": {},
   "outputs": [
    {
     "data": {
      "text/plain": [
       "array([0, 1, 2, 3, 4, 5, 6, 7, 8, 9])"
      ]
     },
     "execution_count": 37,
     "metadata": {},
     "output_type": "execute_result"
    }
   ],
   "source": [
    "ar"
   ]
  },
  {
   "cell_type": "code",
   "execution_count": 38,
   "id": "02213fab-b9cf-42b5-a379-1a7eca53cc07",
   "metadata": {},
   "outputs": [
    {
     "data": {
      "text/plain": [
       "array([ 0,  1,  2,  3,  4,  5,  6,  7,  8,  9, 10])"
      ]
     },
     "execution_count": 38,
     "metadata": {},
     "output_type": "execute_result"
    }
   ],
   "source": [
    "np.append(ar,10)"
   ]
  },
  {
   "cell_type": "code",
   "execution_count": 39,
   "id": "aab6c77a-b441-4c33-bfe4-31dde2d371ee",
   "metadata": {},
   "outputs": [
    {
     "data": {
      "text/plain": [
       "array([0, 1, 2, 3, 4, 5, 6, 7, 8, 9])"
      ]
     },
     "execution_count": 39,
     "metadata": {},
     "output_type": "execute_result"
    }
   ],
   "source": [
    "ar"
   ]
  },
  {
   "cell_type": "code",
   "execution_count": 40,
   "id": "5e7de158-6fc2-4ae1-ad01-2bc0c92e57a5",
   "metadata": {},
   "outputs": [],
   "source": [
    "ar=np.delete(ar,6,axis=0)"
   ]
  },
  {
   "cell_type": "code",
   "execution_count": 41,
   "id": "eaa87646-20d7-4f83-a9f7-e4bde81703d1",
   "metadata": {},
   "outputs": [
    {
     "data": {
      "text/plain": [
       "array([0, 1, 2, 3, 4, 5, 7, 8, 9])"
      ]
     },
     "execution_count": 41,
     "metadata": {},
     "output_type": "execute_result"
    }
   ],
   "source": [
    "ar"
   ]
  },
  {
   "cell_type": "code",
   "execution_count": 42,
   "id": "baa850bf-f41a-4390-bbd9-08a6f6ab399c",
   "metadata": {},
   "outputs": [
    {
     "data": {
      "text/plain": [
       "array([0, 1, 2, 3, 4, 5, 6, 7, 8, 9])"
      ]
     },
     "execution_count": 42,
     "metadata": {},
     "output_type": "execute_result"
    }
   ],
   "source": [
    "ar=np.insert(ar,6,6)\n",
    "ar"
   ]
  },
  {
   "cell_type": "code",
   "execution_count": 43,
   "id": "48e1e334-c60b-49f4-bbd5-8aeb013bf2df",
   "metadata": {},
   "outputs": [
    {
     "data": {
      "text/plain": [
       "array([[1, 2, 3],\n",
       "       [4, 5, 6],\n",
       "       [7, 8, 9]])"
      ]
     },
     "execution_count": 43,
     "metadata": {},
     "output_type": "execute_result"
    }
   ],
   "source": [
    "ar2"
   ]
  },
  {
   "cell_type": "code",
   "execution_count": 44,
   "id": "862e9ea7-84f5-4951-b529-b4e0a61be269",
   "metadata": {},
   "outputs": [
    {
     "data": {
      "text/plain": [
       "array([[ 1,  4,  7],\n",
       "       [ 3,  5,  8],\n",
       "       [10, 12, 15]])"
      ]
     },
     "execution_count": 44,
     "metadata": {},
     "output_type": "execute_result"
    }
   ],
   "source": [
    "ar3"
   ]
  },
  {
   "cell_type": "code",
   "execution_count": 45,
   "id": "9748644e-a0cc-422e-b866-d74423c251f9",
   "metadata": {},
   "outputs": [
    {
     "data": {
      "text/plain": [
       "array([[ 1,  2,  3],\n",
       "       [ 4,  5,  6],\n",
       "       [ 7,  8,  9],\n",
       "       [ 1,  4,  7],\n",
       "       [ 3,  5,  8],\n",
       "       [10, 12, 15]])"
      ]
     },
     "execution_count": 45,
     "metadata": {},
     "output_type": "execute_result"
    }
   ],
   "source": [
    "ar4=np.concatenate((ar2,ar3),axis=0)\n",
    "ar4"
   ]
  },
  {
   "cell_type": "code",
   "execution_count": 46,
   "id": "902aaa75-18c9-475d-95f6-5adb5a953c50",
   "metadata": {},
   "outputs": [
    {
     "data": {
      "text/plain": [
       "array([[ 1,  2,  3,  1,  4,  7],\n",
       "       [ 4,  5,  6,  3,  5,  8],\n",
       "       [ 7,  8,  9, 10, 12, 15]])"
      ]
     },
     "execution_count": 46,
     "metadata": {},
     "output_type": "execute_result"
    }
   ],
   "source": [
    "ar5=np.concatenate((ar2,ar3),axis=1)\n",
    "ar5"
   ]
  },
  {
   "cell_type": "code",
   "execution_count": 47,
   "id": "0ba30211-ed35-4e76-a7c4-44a7336c8fd4",
   "metadata": {},
   "outputs": [
    {
     "data": {
      "text/plain": [
       "[array([[1, 2, 3],\n",
       "        [4, 5, 6]]),\n",
       " array([[7, 8, 9],\n",
       "        [1, 4, 7]]),\n",
       " array([[ 3,  5,  8],\n",
       "        [10, 12, 15]])]"
      ]
     },
     "execution_count": 47,
     "metadata": {},
     "output_type": "execute_result"
    }
   ],
   "source": [
    "np.split(ar4,3)"
   ]
  },
  {
   "cell_type": "code",
   "execution_count": 48,
   "id": "20b6d90b-5cc5-4fb3-ad84-f9a3086e9c4d",
   "metadata": {},
   "outputs": [
    {
     "data": {
      "text/plain": [
       "[array([[1, 2, 3],\n",
       "        [4, 5, 6]]),\n",
       " array([[7, 8, 9],\n",
       "        [1, 4, 7]]),\n",
       " array([[ 3,  5,  8],\n",
       "        [10, 12, 15]])]"
      ]
     },
     "execution_count": 48,
     "metadata": {},
     "output_type": "execute_result"
    }
   ],
   "source": [
    "ar6=np.split(ar4,3)\n",
    "ar6"
   ]
  },
  {
   "cell_type": "code",
   "execution_count": 49,
   "id": "df298ef7-cc88-427d-b6b6-6469a518dde0",
   "metadata": {},
   "outputs": [
    {
     "data": {
      "text/plain": [
       "array([[1, 2, 3],\n",
       "       [4, 5, 6]])"
      ]
     },
     "execution_count": 49,
     "metadata": {},
     "output_type": "execute_result"
    }
   ],
   "source": [
    "ar6[0]"
   ]
  },
  {
   "cell_type": "code",
   "execution_count": 50,
   "id": "d68f6adb-6053-4c58-abca-1964c195ab74",
   "metadata": {},
   "outputs": [
    {
     "data": {
      "text/plain": [
       "array([[ 3,  5,  8],\n",
       "       [10, 12, 15]])"
      ]
     },
     "execution_count": 50,
     "metadata": {},
     "output_type": "execute_result"
    }
   ],
   "source": [
    "ar6[2]"
   ]
  },
  {
   "cell_type": "markdown",
   "id": "d929f106-b92a-4747-ac34-41a7e09391fd",
   "metadata": {},
   "source": [
    "**Scalar Expressions**\n",
    "add subtract multiply divide power"
   ]
  },
  {
   "cell_type": "code",
   "execution_count": 51,
   "id": "f3a2cb7a-02f2-47f2-9e22-385cf3a839a9",
   "metadata": {},
   "outputs": [
    {
     "data": {
      "text/plain": [
       "array([[ 1,  2,  3,  1,  4,  7],\n",
       "       [ 4,  5,  6,  3,  5,  8],\n",
       "       [ 7,  8,  9, 10, 12, 15]])"
      ]
     },
     "execution_count": 51,
     "metadata": {},
     "output_type": "execute_result"
    }
   ],
   "source": [
    "ar5"
   ]
  },
  {
   "cell_type": "code",
   "execution_count": 52,
   "id": "82c052ac-a465-4532-aa2b-cf1bb9396465",
   "metadata": {},
   "outputs": [
    {
     "data": {
      "text/plain": [
       "array([[ 2,  3,  4,  2,  5,  8],\n",
       "       [ 5,  6,  7,  4,  6,  9],\n",
       "       [ 8,  9, 10, 11, 13, 16]])"
      ]
     },
     "execution_count": 52,
     "metadata": {},
     "output_type": "execute_result"
    }
   ],
   "source": [
    "np.add(ar5,1)"
   ]
  },
  {
   "cell_type": "markdown",
   "id": "fbada34f-1fe8-4ffb-94eb-1000e9a6c39e",
   "metadata": {},
   "source": [
    "**Vector Operations**"
   ]
  },
  {
   "cell_type": "code",
   "execution_count": 53,
   "id": "4968830e-e122-44cb-aaaa-1e51ce6cf4c9",
   "metadata": {},
   "outputs": [
    {
     "data": {
      "text/plain": [
       "[array([[1, 2, 3],\n",
       "        [4, 5, 6]]),\n",
       " array([[7, 8, 9],\n",
       "        [1, 4, 7]]),\n",
       " array([[ 3,  5,  8],\n",
       "        [10, 12, 15]])]"
      ]
     },
     "execution_count": 53,
     "metadata": {},
     "output_type": "execute_result"
    }
   ],
   "source": [
    "ar6"
   ]
  },
  {
   "cell_type": "code",
   "execution_count": 54,
   "id": "08ce5d37-99cb-49ef-8041-ca0d2981c560",
   "metadata": {},
   "outputs": [
    {
     "data": {
      "text/plain": [
       "array([[ 8, 10, 12],\n",
       "       [ 5,  9, 13]])"
      ]
     },
     "execution_count": 54,
     "metadata": {},
     "output_type": "execute_result"
    }
   ],
   "source": [
    "ar7 = np.add(ar6[0],ar6[1])\n",
    "ar7"
   ]
  },
  {
   "cell_type": "code",
   "execution_count": 55,
   "id": "8a9afa72-a226-4077-b14a-46a7a7f043d2",
   "metadata": {},
   "outputs": [
    {
     "data": {
      "text/plain": [
       "array([[ 7, 16, 27],\n",
       "       [ 4, 20, 42]])"
      ]
     },
     "execution_count": 55,
     "metadata": {},
     "output_type": "execute_result"
    }
   ],
   "source": [
    "ar8 = np.multiply(ar6[0],ar6[1])\n",
    "ar8"
   ]
  },
  {
   "cell_type": "code",
   "execution_count": 56,
   "id": "a3d673c9-baca-441b-85ec-4004852b1ca9",
   "metadata": {},
   "outputs": [
    {
     "data": {
      "text/plain": [
       "array([[0.14285714, 0.25      , 0.33333333],\n",
       "       [4.        , 1.25      , 0.85714286]])"
      ]
     },
     "execution_count": 56,
     "metadata": {},
     "output_type": "execute_result"
    }
   ],
   "source": [
    "ar9 = np.divide(ar6[0],ar6[1])\n",
    "ar9"
   ]
  },
  {
   "cell_type": "code",
   "execution_count": 57,
   "id": "54d7c3a0-0634-4581-a566-b20ef355cf83",
   "metadata": {},
   "outputs": [
    {
     "data": {
      "text/plain": [
       "array([[1., 1., 1.],\n",
       "       [4., 2., 1.]])"
      ]
     },
     "execution_count": 57,
     "metadata": {},
     "output_type": "execute_result"
    }
   ],
   "source": [
    "np.ceil(ar9)\n"
   ]
  },
  {
   "cell_type": "code",
   "execution_count": 58,
   "id": "f9781455-810c-40b2-83c5-39546297d46b",
   "metadata": {},
   "outputs": [
    {
     "data": {
      "text/plain": [
       "array([[0., 0., 0.],\n",
       "       [4., 1., 0.]])"
      ]
     },
     "execution_count": 58,
     "metadata": {},
     "output_type": "execute_result"
    }
   ],
   "source": [
    "np.floor(ar9)"
   ]
  },
  {
   "cell_type": "code",
   "execution_count": 59,
   "id": "b74825da-f943-4440-898c-48a9dd6862fc",
   "metadata": {},
   "outputs": [
    {
     "data": {
      "text/plain": [
       "array([[0., 0., 0.],\n",
       "       [4., 1., 1.]])"
      ]
     },
     "execution_count": 59,
     "metadata": {},
     "output_type": "execute_result"
    }
   ],
   "source": [
    "np.round(ar9)"
   ]
  },
  {
   "cell_type": "markdown",
   "id": "4f1bbbb0-b16c-4f70-8cdf-c0d0804db140",
   "metadata": {},
   "source": [
    "**Statistics**"
   ]
  },
  {
   "cell_type": "code",
   "execution_count": 60,
   "id": "4f640e59-c7b1-4176-bb27-5e0c4f45130a",
   "metadata": {},
   "outputs": [
    {
     "data": {
      "text/plain": [
       "np.float64(6.111111111111111)"
      ]
     },
     "execution_count": 60,
     "metadata": {},
     "output_type": "execute_result"
    }
   ],
   "source": [
    "np.mean(ar5)"
   ]
  },
  {
   "cell_type": "code",
   "execution_count": 61,
   "id": "af10404e-d2e0-4000-babc-ef6f6139d132",
   "metadata": {},
   "outputs": [
    {
     "data": {
      "text/plain": [
       "array([ 4.        ,  5.        ,  6.        ,  4.66666667,  7.        ,\n",
       "       10.        ])"
      ]
     },
     "execution_count": 61,
     "metadata": {},
     "output_type": "execute_result"
    }
   ],
   "source": [
    "np.mean(ar5,axis=0)"
   ]
  },
  {
   "cell_type": "code",
   "execution_count": 62,
   "id": "e5f80c41-4560-4566-bafd-e7c58c7439f4",
   "metadata": {},
   "outputs": [
    {
     "data": {
      "text/plain": [
       "array([ 3.        ,  5.16666667, 10.16666667])"
      ]
     },
     "execution_count": 62,
     "metadata": {},
     "output_type": "execute_result"
    }
   ],
   "source": [
    "np.mean(ar5,axis=1)"
   ]
  },
  {
   "cell_type": "code",
   "execution_count": 63,
   "id": "05a01d74-103a-430e-9111-a853d80e8090",
   "metadata": {},
   "outputs": [
    {
     "data": {
      "text/plain": [
       "np.float64(5.5)"
      ]
     },
     "execution_count": 63,
     "metadata": {},
     "output_type": "execute_result"
    }
   ],
   "source": [
    "np.median(ar5)"
   ]
  },
  {
   "cell_type": "code",
   "execution_count": 64,
   "id": "2814c0a0-1e52-4fd6-8378-b208a1ba9220",
   "metadata": {},
   "outputs": [
    {
     "data": {
      "text/plain": [
       "array([2.5, 5. , 9.5])"
      ]
     },
     "execution_count": 64,
     "metadata": {},
     "output_type": "execute_result"
    }
   ],
   "source": [
    "np.median(ar5,axis=1)"
   ]
  },
  {
   "cell_type": "code",
   "execution_count": 65,
   "id": "37d28fa6-d45c-4d4b-bd28-3443b6adb9f6",
   "metadata": {},
   "outputs": [
    {
     "data": {
      "text/plain": [
       "np.int64(1)"
      ]
     },
     "execution_count": 65,
     "metadata": {},
     "output_type": "execute_result"
    }
   ],
   "source": [
    "np.min(ar5)"
   ]
  },
  {
   "cell_type": "code",
   "execution_count": 66,
   "id": "c9a5fa29-cc10-4f31-9bb4-d8cb0c53c0d9",
   "metadata": {},
   "outputs": [
    {
     "data": {
      "text/plain": [
       "array([1, 2, 3, 1, 4, 7])"
      ]
     },
     "execution_count": 66,
     "metadata": {},
     "output_type": "execute_result"
    }
   ],
   "source": [
    "np.min(ar5,axis=0)"
   ]
  },
  {
   "cell_type": "code",
   "execution_count": 67,
   "id": "8dab1e90-cba9-49d5-aba5-14251d9e065c",
   "metadata": {},
   "outputs": [
    {
     "data": {
      "text/plain": [
       "array([ 7,  8,  9, 10, 12, 15])"
      ]
     },
     "execution_count": 67,
     "metadata": {},
     "output_type": "execute_result"
    }
   ],
   "source": [
    "np.max(ar5,axis=0)"
   ]
  },
  {
   "cell_type": "code",
   "execution_count": 68,
   "id": "a79575e6-e7e5-4ee0-a725-60137307d97d",
   "metadata": {},
   "outputs": [],
   "source": [
    "ar10=np.array([2,5,3,8,0,4,1,6,9])"
   ]
  },
  {
   "cell_type": "code",
   "execution_count": 69,
   "id": "122f0482-205e-4343-8adc-0424cdf61870",
   "metadata": {},
   "outputs": [
    {
     "data": {
      "text/plain": [
       "array([[ 1,  2,  3,  1,  4,  7],\n",
       "       [ 4,  5,  6,  3,  5,  8],\n",
       "       [ 7,  8,  9, 10, 12, 15]])"
      ]
     },
     "execution_count": 69,
     "metadata": {},
     "output_type": "execute_result"
    }
   ],
   "source": [
    "ar5"
   ]
  },
  {
   "cell_type": "code",
   "execution_count": null,
   "id": "6e412d52-821b-4242-9741-ce11c513f12d",
   "metadata": {},
   "outputs": [],
   "source": []
  }
 ],
 "metadata": {
  "kernelspec": {
   "display_name": "Python 3 (ipykernel)",
   "language": "python",
   "name": "python3"
  },
  "language_info": {
   "codemirror_mode": {
    "name": "ipython",
    "version": 3
   },
   "file_extension": ".py",
   "mimetype": "text/x-python",
   "name": "python",
   "nbconvert_exporter": "python",
   "pygments_lexer": "ipython3",
   "version": "3.12.4"
  }
 },
 "nbformat": 4,
 "nbformat_minor": 5
}
